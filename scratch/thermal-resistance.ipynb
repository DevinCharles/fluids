{
 "cells": [
  {
   "cell_type": "code",
   "execution_count": 4,
   "id": "546b1387-6e48-4111-a43c-bdbf160f586a",
   "metadata": {},
   "outputs": [],
   "source": [
    "class RealCapacitance:    \n",
    "    '''\n",
    "    A real thermal capacitance divided into n parts:\n",
    "    Defining the Biot Number as Bi = max(Rn / Ri , Rn / Ro)\n",
    "    Choose n such that Bi / n < 0.1\n",
    "    \n",
    "    Rk = L_c / (k * A)\n",
    "    Rh = 1   / (h * A)\n",
    "    Rr = 1   / (hr * A)\n",
    "    hr = \n",
    "    \n",
    "    Where:\n",
    "    Ri = Resistance of input\n",
    "    Ro = Resistance of output\n",
    "    Rn = Rtotal / n\n",
    "    Cn = Ctotal / n\n",
    "\n",
    "         Ri         Rn        Rn         Rn        Rn         Ro      \n",
    "    .--/\\/\\/\\--|--/\\/\\/\\----/\\/\\/\\--|--/\\/\\/\\----/\\/\\/\\--|--/\\/\\/\\--.\n",
    "    |          |                    |                    |          |\n",
    "            ||   ||              ||   ||              ||   ||           \n",
    "    Ti      ||   ||Cn/2          ||   ||Cn            ||   ||Cn/2   To  \n",
    "               |                    |                    |              \n",
    "    |__________|____________________|____________________|__________|\n",
    "                                 |\n",
    "                                ___\n",
    "                                 -\n",
    "    '''"
   ]
  },
  {
   "cell_type": "code",
   "execution_count": 6,
   "id": "f89e892b-0cca-4391-864e-931660c3126a",
   "metadata": {},
   "outputs": [],
   "source": [
    "class PartialCapacitance:    \n",
    "    '''\n",
    "    Part of a network of a real thermal capacitance divided into n parts.\n",
    "    \n",
    "    Where:\n",
    "    Rn = Rtotal / n\n",
    "    Cn = Ctotal / n\n",
    "\n",
    "         Rn        Rn             \n",
    "   ----/\\/\\/\\--|--/\\/\\/\\----\n",
    "               |            \n",
    "            ||   ||         \n",
    "            ||   || Cn  \n",
    "               |            \n",
    "    ___________|____________\n",
    " '''"
   ]
  },
  {
   "cell_type": "code",
   "execution_count": 7,
   "id": "15b9083f-fc01-4616-9ffb-d5fabd5b3b6f",
   "metadata": {
    "tags": []
   },
   "outputs": [
    {
     "name": "stdout",
     "output_type": "stream",
     "text": [
      "Help on class PartialCapacitance in module __main__:\n",
      "\n",
      "class PartialCapacitance(builtins.object)\n",
      " |   Part of a network of a real thermal capacitance divided into n parts.\n",
      " |   \n",
      " |   Where:\n",
      " |   Rn = Rtotal / n\n",
      " |   Cn = Ctotal / n\n",
      " |  \n",
      " |        Rn        Rn             \n",
      " |  ----/\\/\\/\\--|--/\\/\\/\\----\n",
      " |              |            \n",
      " |           ||   ||         \n",
      " |           ||   || Cn  \n",
      " |              |            \n",
      " |   ___________|____________\n",
      " |  \n",
      " |  Data descriptors defined here:\n",
      " |  \n",
      " |  __dict__\n",
      " |      dictionary for instance variables (if defined)\n",
      " |  \n",
      " |  __weakref__\n",
      " |      list of weak references to the object (if defined)\n",
      "\n"
     ]
    }
   ],
   "source": [
    "help(PartialCapacitance)"
   ]
  },
  {
   "cell_type": "code",
   "execution_count": null,
   "id": "9abc182f-8da0-4b3d-bd29-dd9968929587",
   "metadata": {},
   "outputs": [],
   "source": []
  }
 ],
 "metadata": {
  "kernelspec": {
   "display_name": "Python 3 (ipykernel)",
   "language": "python",
   "name": "python3"
  },
  "language_info": {
   "codemirror_mode": {
    "name": "ipython",
    "version": 3
   },
   "file_extension": ".py",
   "mimetype": "text/x-python",
   "name": "python",
   "nbconvert_exporter": "python",
   "pygments_lexer": "ipython3",
   "version": "3.10.6"
  }
 },
 "nbformat": 4,
 "nbformat_minor": 5
}
